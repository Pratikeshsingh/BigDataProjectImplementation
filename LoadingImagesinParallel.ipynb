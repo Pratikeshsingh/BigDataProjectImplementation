{
  "nbformat": 4,
  "nbformat_minor": 0,
  "metadata": {
    "colab": {
      "name": "LoadingImagesinParallel.ipynb",
      "provenance": [],
      "collapsed_sections": [],
      "machine_shape": "hm"
    },
    "kernelspec": {
      "name": "python3",
      "display_name": "Python 3"
    }
  },
  "cells": [
    {
      "cell_type": "code",
      "metadata": {
        "id": "h0nQnHQrhwjR",
        "colab_type": "code",
        "colab": {}
      },
      "source": [
        ""
      ],
      "execution_count": 0,
      "outputs": []
    },
    {
      "cell_type": "code",
      "metadata": {
        "id": "DaOV4M0gh1Lb",
        "colab_type": "code",
        "outputId": "6649f62b-fd35-47d5-8b41-29be9c704c09",
        "colab": {
          "base_uri": "https://localhost:8080/",
          "height": 122
        }
      },
      "source": [
        "from google.colab import drive\n",
        "drive.mount('/content/drive')"
      ],
      "execution_count": 0,
      "outputs": [
        {
          "output_type": "stream",
          "text": [
            "Go to this URL in a browser: https://accounts.google.com/o/oauth2/auth?client_id=947318989803-6bn6qk8qdgf4n4g3pfee6491hc0brc4i.apps.googleusercontent.com&redirect_uri=urn%3aietf%3awg%3aoauth%3a2.0%3aoob&response_type=code&scope=email%20https%3a%2f%2fwww.googleapis.com%2fauth%2fdocs.test%20https%3a%2f%2fwww.googleapis.com%2fauth%2fdrive%20https%3a%2f%2fwww.googleapis.com%2fauth%2fdrive.photos.readonly%20https%3a%2f%2fwww.googleapis.com%2fauth%2fpeopleapi.readonly\n",
            "\n",
            "Enter your authorization code:\n",
            "··········\n",
            "Mounted at /content/drive\n"
          ],
          "name": "stdout"
        }
      ]
    },
    {
      "cell_type": "code",
      "metadata": {
        "id": "tCnP-1Meh2D7",
        "colab_type": "code",
        "colab": {}
      },
      "source": [
        "!unzip '/content/drive/My Drive/flickr-image-dataset.zip'"
      ],
      "execution_count": 0,
      "outputs": []
    },
    {
      "cell_type": "code",
      "metadata": {
        "id": "LHSdV132ivSN",
        "colab_type": "code",
        "outputId": "48a3a181-a78e-41fe-cc58-56a0466eaeb8",
        "colab": {
          "base_uri": "https://localhost:8080/",
          "height": 156
        }
      },
      "source": [
        "#!/usr/bin/env python3\n",
        "# -*- coding: utf-8 -*-\n",
        "\"\"\"\n",
        "Created on Tue Mar 31 17:37:44 2020\n",
        "\n",
        "@author: pratikeshsingh\n",
        "\"\"\"\n",
        "\n",
        "import datetime\n",
        "import time\n",
        "import cv2\n",
        "import os\n",
        "import glob\n",
        "from joblib import Parallel, delayed\n",
        "\n",
        "#os.chdir('/Users/pratikeshsingh/Desktop/Masters/BigData/code3/Mask_RCNN/mrcnn')\n",
        "os.chdir('/content/drive/My Drive/pics/need sorting')\n",
        "ROOT_DIR = os.path.abspath(\"../\")\n",
        "#IMAGE_DIR = os.path.join(ROOT_DIR, \"images\")\n",
        "PATH_TO_C0_TRAIN = os.path.join('/content/drive/My Drive/pics/need sorting','*.JPG')\n",
        "\n",
        "#PATH_TO_C0_TRAIN = os.path.join('../input', 'train', 'c0', '*.jpg')\n",
        "TRAIN_FILES = glob.glob(PATH_TO_C0_TRAIN)    \n",
        "N_PROCS = 2\n",
        "\n",
        "def time_function_execution(function_to_execute):\n",
        "    def compute_execution_time(*args, **kwargs):\n",
        "        start_time = time.time()\n",
        "        result = function_to_execute(*args, **kwargs)\n",
        "        end_time = time.time()\n",
        "        computation_time = datetime.timedelta(seconds=end_time - start_time)\n",
        "        print('I am done!')\n",
        "        print('Computation lasted: {}'.format(computation_time))\n",
        "        return result\n",
        "    return compute_execution_time\n",
        "    \n",
        "\n",
        "\n",
        "## Time the loading of all training files (normal and in parallel)\n",
        "\n",
        "def load_image(img_file):\n",
        "    return cv2.imread(img_file)\n",
        "\n",
        "@time_function_execution\n",
        "def load_images(img_files):\n",
        "    imgs = []\n",
        "    for img_file in img_files:\n",
        "        imgs.append(load_image(img_file))\n",
        "    return imgs\n",
        "\n",
        "\n",
        "\n",
        "@time_function_execution\n",
        "def load_images_parallel(img_files):\n",
        "    return Parallel(n_jobs=N_PROCS)(delayed(load_image)(img_file) \n",
        "                                    for img_file in img_files)\n",
        "\n",
        "\n",
        "print(\"Loading train images\")\n",
        "#images = load_images(TRAIN_FILES)\n",
        "\n",
        "print(\"_____________________\")\n",
        "\n",
        "print(\"Loading train images in parallel\")\n",
        "images_parallel = load_images_parallel(TRAIN_FILES)\n",
        "\n",
        "\n",
        "\n"
      ],
      "execution_count": 0,
      "outputs": [
        {
          "output_type": "stream",
          "text": [
            "Loading train images\n",
            "_____________________\n",
            "Loading train images in parallel\n"
          ],
          "name": "stdout"
        },
        {
          "output_type": "stream",
          "text": [
            "/usr/local/lib/python3.6/dist-packages/joblib/externals/loky/process_executor.py:706: UserWarning: A worker stopped while some jobs were given to the executor. This can be caused by a too short worker timeout or by a memory leak.\n",
            "  \"timeout or by a memory leak.\", UserWarning\n"
          ],
          "name": "stderr"
        },
        {
          "output_type": "stream",
          "text": [
            "I am done!\n",
            "Computation lasted: 0:04:53.696600\n"
          ],
          "name": "stdout"
        }
      ]
    },
    {
      "cell_type": "code",
      "metadata": {
        "id": "oLXI50okrN33",
        "colab_type": "code",
        "colab": {}
      },
      "source": [
        "TRAIN_FILES"
      ],
      "execution_count": 0,
      "outputs": []
    },
    {
      "cell_type": "code",
      "metadata": {
        "id": "j1vITG9JllSF",
        "colab_type": "code",
        "outputId": "1696c504-6ea8-49eb-a9d0-2fc93dc7ce24",
        "colab": {
          "base_uri": "https://localhost:8080/",
          "height": 34
        }
      },
      "source": [
        "# Processing images by Doing The Simplest Thing\n",
        "from pathlib import Path\n",
        "from PIL import Image\n",
        "from PIL import ImageFilter\n",
        "import sys\n",
        "import concurrent.futures\n",
        "\n",
        "# in_path = Path.cwd() / \"images\"\n",
        "out_path = Path.cwd() / \"out\"\n",
        "\n",
        "# if not in_path.exists():\n",
        "#     print(f\"Cannot find {in_path.name} directory\")\n",
        "#     sys.exit(1)\n",
        "\n",
        "# if not out_path.exists():\n",
        "#     out_path.mkdir()\n",
        "\n",
        "def process_one_file(filename):\n",
        "    outfile = out_path / filename\n",
        "    try:\n",
        "        image = Image.open(filename)\n",
        "        image.filter(ImageFilter.DETAIL)\n",
        "        #image.save(outfile, \"JPEG\")\n",
        "    except IOError:\n",
        "        print(f\"Cannot create thumbnail for {filename}\")\n",
        "\n",
        "# names = list(in_path.glob(\"*\")) #* 4\n",
        "\n",
        "import time\n",
        "start = time.time()\n",
        "executor = concurrent.futures.ThreadPoolExecutor(99)\n",
        "list(executor.map(process_one_file, TRAIN_FILES))\n",
        "print(time.time() - start)\n",
        "\n",
        "# for image_file in in_path.glob(\"*\"):\n",
        "#     process_one_file(image_file)\n"
      ],
      "execution_count": 0,
      "outputs": [
        {
          "output_type": "stream",
          "text": [
            "54.37437677383423\n"
          ],
          "name": "stdout"
        }
      ]
    },
    {
      "cell_type": "code",
      "metadata": {
        "id": "aQ-3J5MQuRXE",
        "colab_type": "code",
        "outputId": "55ab31e9-5ccf-4e8f-8dc8-fb2646917798",
        "colab": {
          "base_uri": "https://localhost:8080/",
          "height": 34
        }
      },
      "source": [
        "Path.cwd()"
      ],
      "execution_count": 0,
      "outputs": [
        {
          "output_type": "execute_result",
          "data": {
            "text/plain": [
              "PosixPath('/content/drive/My Drive/pics/need sorting')"
            ]
          },
          "metadata": {
            "tags": []
          },
          "execution_count": 11
        }
      ]
    },
    {
      "cell_type": "code",
      "metadata": {
        "id": "l48hBarzuAOl",
        "colab_type": "code",
        "colab": {}
      },
      "source": [
        "out_path = Path.cwd() / \"../out\""
      ],
      "execution_count": 0,
      "outputs": []
    },
    {
      "cell_type": "code",
      "metadata": {
        "id": "JYHe_IknupXL",
        "colab_type": "code",
        "outputId": "6bd3e089-7d0f-42ac-bd4e-c68ea140df35",
        "colab": {
          "base_uri": "https://localhost:8080/",
          "height": 34
        }
      },
      "source": [
        "out_path"
      ],
      "execution_count": 0,
      "outputs": [
        {
          "output_type": "execute_result",
          "data": {
            "text/plain": [
              "PosixPath('/content/drive/My Drive/pics/need sorting/../out')"
            ]
          },
          "metadata": {
            "tags": []
          },
          "execution_count": 13
        }
      ]
    },
    {
      "cell_type": "code",
      "metadata": {
        "id": "cWmVNt9kuqP_",
        "colab_type": "code",
        "colab": {}
      },
      "source": [
        ""
      ],
      "execution_count": 0,
      "outputs": []
    }
  ]
}